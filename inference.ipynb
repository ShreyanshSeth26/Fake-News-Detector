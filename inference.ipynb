{
 "cells": [
  {
   "cell_type": "code",
   "execution_count": 1,
   "id": "6c6dbd1f",
   "metadata": {},
   "outputs": [
    {
     "name": "stdout",
     "output_type": "stream",
     "text": [
      "▶ INPUT: Shashi Tharoor on Donald Trump's repeated ceasefire claims: ‘India didn’t need persuasion'\n",
      "  → Predicted: fake  (p_real=0.001, p_fake=0.999)\n",
      "\n"
     ]
    }
   ],
   "source": [
    "import warnings\n",
    "warnings.filterwarnings(\"ignore\", message=r\"Some weights of .* were not initialized from the model checkpoint\", category=UserWarning,)\n",
    "warnings.filterwarnings(\"ignore\", message=r\"Already found a `peft_config` attribute in the model\", category=UserWarning,)\n",
    "from transformers import logging as hf_logging\n",
    "hf_logging.set_verbosity_error()\n",
    "import torch\n",
    "from transformers import DistilBertTokenizerFast, DistilBertForSequenceClassification\n",
    "from peft import PeftModel\n",
    "\n",
    "BEST_MODEL_DIR = r\"X:\\Projects\\Personal\\Fake News Detector\\outputs\\checkpoints\\BestModel\"\n",
    "tokenizer = DistilBertTokenizerFast.from_pretrained(BEST_MODEL_DIR)\n",
    "\n",
    "base_model = DistilBertForSequenceClassification.from_pretrained(\n",
    "    BEST_MODEL_DIR,\n",
    "    num_labels=2,\n",
    "    ignore_mismatched_sizes=True\n",
    ")\n",
    "\n",
    "model = PeftModel.from_pretrained(base_model, BEST_MODEL_DIR)\n",
    "model.eval()\n",
    "device = \"cuda\"\n",
    "model.to(device)\n",
    "\n",
    "def predict(texts):\n",
    "    enc = tokenizer(\n",
    "        texts,\n",
    "        truncation=True,\n",
    "        padding=True,\n",
    "        max_length=512,\n",
    "        return_tensors=\"pt\"\n",
    "    )\n",
    "    enc = {k: v.to(device) for k, v in enc.items()}\n",
    "\n",
    "    with torch.no_grad():\n",
    "        out = model(**enc)\n",
    "        logits = out.logits\n",
    "\n",
    "    probs = torch.softmax(logits, dim=-1).cpu().numpy()\n",
    "    preds = probs.argmax(axis=-1)\n",
    "    return preds, probs\n",
    "\n",
    "if __name__ == \"__main__\":\n",
    "    samples = [\n",
    "        \"Shashi Tharoor on Donald Trump's repeated ceasefire claims: ‘India didn’t need persuasion'\",\n",
    "    ]\n",
    "    preds, probs = predict(samples)\n",
    "    for txt, p, pr in zip(samples, preds, probs):\n",
    "        label = \"fake\" if p==1 else \"real\"\n",
    "        print(f\"▶ INPUT: {txt}\")\n",
    "        print(f\"  → Predicted: {label}  (p_real={pr[0]:.3f}, p_fake={pr[1]:.3f})\\n\")"
   ]
  }
 ],
 "metadata": {
  "kernelspec": {
   "display_name": "Python 3",
   "language": "python",
   "name": "python3"
  },
  "language_info": {
   "codemirror_mode": {
    "name": "ipython",
    "version": 3
   },
   "file_extension": ".py",
   "mimetype": "text/x-python",
   "name": "python",
   "nbconvert_exporter": "python",
   "pygments_lexer": "ipython3",
   "version": "3.12.10"
  }
 },
 "nbformat": 4,
 "nbformat_minor": 5
}
